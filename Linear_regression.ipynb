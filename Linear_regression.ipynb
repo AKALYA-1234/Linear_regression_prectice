{
 "cells": [
  {
   "cell_type": "markdown",
   "id": "a1840a02-6842-442f-8fae-30ffbd78adfe",
   "metadata": {},
   "source": [
    "TASK-1:"
   ]
  },
  {
   "cell_type": "code",
   "execution_count": 3,
   "id": "f844b4b8-590f-445c-9db8-ffc3f5da5895",
   "metadata": {},
   "outputs": [],
   "source": [
    "import numpy as np\n",
    "import pandas as pd\n",
    "import matplotlib.pyplot as plt\n",
    "from sklearn.linear_model import LinearRegression\n",
    "from sklearn.metrics import r2_score"
   ]
  },
  {
   "cell_type": "code",
   "execution_count": 20,
   "id": "b00315d1-04ca-48ee-bb8c-49f3cefe53b1",
   "metadata": {},
   "outputs": [
    {
     "name": "stdout",
     "output_type": "stream",
     "text": [
      "Slope: 5.053919705900304\n",
      "Intercept: 49.647079394343734\n",
      "R2_score:0.9759056668691584\n",
      "Predicted score for 9 Hours:[95.13235675]\n"
     ]
    }
   ],
   "source": [
    "df=pd.read_csv(r\"C:\\Users\\DELL\\Downloads\\study_hours_scores_150.csv\",encoding='latin1')\n",
    "df.head()\n",
    "X=df[['hours']]\n",
    "y=df['score']\n",
    "model=LinearRegression()\n",
    "model.fit(X,y)\n",
    "slope=model.coef_[0]\n",
    "intercept=model.intercept_\n",
    "y_pred=model.predict(X)\n",
    "r2=r2_score(y,y_pred)\n",
    "pred_score=model.predict(pd.DataFrame({'hours':[9]}))\n",
    "print(\"Slope:\",slope)\n",
    "print(\"Intercept:\",intercept)\n",
    "print(f\"R2_score:{r2}\")\n",
    "print(f\"Predicted score for 9 Hours:{pred_score}\")"
   ]
  },
  {
   "cell_type": "markdown",
   "id": "f8616317-71e7-4294-a281-e32ed08336b8",
   "metadata": {},
   "source": [
    "TASK-2:"
   ]
  },
  {
   "cell_type": "code",
   "execution_count": 21,
   "id": "d84a1a67-5ffd-4c87-a0f6-dd5ca152024f",
   "metadata": {},
   "outputs": [
    {
     "name": "stdout",
     "output_type": "stream",
     "text": [
      "Slope: 970.9163250491011\n",
      "Intercept: 7914.0157764139\n",
      "R2_score:0.9715128790315359\n",
      "Predicted price for 120 size_m2:[124423.97478231]\n"
     ]
    }
   ],
   "source": [
    "df=pd.read_csv(r\"C:\\Users\\DELL\\Downloads\\house_price_size_150.csv\",encoding='latin1')\n",
    "X=df[['size_m2']]\n",
    "y=df['price']\n",
    "model=LinearRegression()\n",
    "model.fit(X,y)\n",
    "slope=model.coef_[0]\n",
    "intercept=model.intercept_\n",
    "y_pred=model.predict(X)\n",
    "r2=r2_score(y,y_pred)\n",
    "pred_price=model.predict(pd.DataFrame({'size_m2':[120]}))\n",
    "print(\"Slope:\",slope)\n",
    "print(\"Intercept:\",intercept)\n",
    "print(f\"R2_score:{r2}\")\n",
    "print(f\"Predicted price for 120 size_m2:{pred_price}\")"
   ]
  },
  {
   "cell_type": "markdown",
   "id": "e0dd63e6-7db6-4a4e-9c3c-6d7257b66858",
   "metadata": {},
   "source": [
    "TASK-3:"
   ]
  },
  {
   "cell_type": "code",
   "execution_count": 24,
   "id": "acc5a0f8-0848-4f10-94a9-66979e10f354",
   "metadata": {},
   "outputs": [
    {
     "name": "stdout",
     "output_type": "stream",
     "text": [
      "Slope: 3.0050265775533473\n",
      "Intercept: 30.2908552025724\n",
      "R2_score:0.987404362707227\n",
      "Predicted salary for 7 Years:[51.32604125]\n"
     ]
    }
   ],
   "source": [
    "df=pd.read_csv(r\"C:\\Users\\DELL\\Downloads\\salary_experience_150.csv\",encoding='latin1')\n",
    "X=df[['experience_years']]\n",
    "y=df['salary_k']\n",
    "model=LinearRegression()\n",
    "model.fit(X,y)\n",
    "slope=model.coef_[0]\n",
    "intercept=model.intercept_\n",
    "y_pred=model.predict(X)\n",
    "r2=r2_score(y,y_pred)\n",
    "pred_price=model.predict(pd.DataFrame({'experience_years':[7]}))\n",
    "print(\"Slope:\",slope)\n",
    "print(\"Intercept:\",intercept)\n",
    "print(f\"R2_score:{r2}\")\n",
    "print(f\"Predicted salary for 7 Years:{pred_price}\")"
   ]
  },
  {
   "cell_type": "markdown",
   "id": "bdd8d80d-24a6-4fc7-9d2c-cdcc2e42b507",
   "metadata": {},
   "source": [
    "TASK-4:"
   ]
  },
  {
   "cell_type": "code",
   "execution_count": 26,
   "id": "d62d4069-5365-475b-9508-d6edaeef146e",
   "metadata": {},
   "outputs": [
    {
     "name": "stdout",
     "output_type": "stream",
     "text": [
      "Coefficient: {'size_m2': np.float64(0.05475608922537633), 'bedrooms': np.float64(10.079739831044296)}\n",
      "Slope: 0.05475608922537633\n",
      "Intercept: 4.382282432945502\n",
      "R2_score:0.9695797476976743\n",
      "Predicted price for sixe=85 and bedrooms=3:[39.27576951]\n"
     ]
    }
   ],
   "source": [
    "df=pd.read_csv(r\"C:\\Users\\DELL\\Downloads\\house_price_multifeature_150.csv\",encoding='latin1')\n",
    "X=df[['size_m2','bedrooms']]\n",
    "y=df['price_k']\n",
    "model=LinearRegression()\n",
    "model.fit(X,y)\n",
    "coefficient=dict(zip(X.columns,model.coef_))\n",
    "slope=model.coef_[0]\n",
    "intercept=model.intercept_\n",
    "y_pred=model.predict(X)\n",
    "r2=r2_score(y,y_pred)\n",
    "pred_price=model.predict(pd.DataFrame({'size_m2':[85],'bedrooms':[3]}))\n",
    "print(\"Coefficient:\",coefficient)\n",
    "print(\"Slope:\",slope)\n",
    "print(\"Intercept:\",intercept)\n",
    "print(f\"R2_score:{r2}\")\n",
    "print(f\"Predicted price for sixe=85 and bedrooms=3:{pred_price}\")"
   ]
  },
  {
   "cell_type": "markdown",
   "id": "bc02e6ba-8240-4cd1-92f9-b99b69537dd3",
   "metadata": {},
   "source": [
    "TASK-5:"
   ]
  },
  {
   "cell_type": "code",
   "execution_count": 28,
   "id": "fd054cec-ab64-4d6b-8414-56fdd4e4d8dd",
   "metadata": {},
   "outputs": [
    {
     "name": "stdout",
     "output_type": "stream",
     "text": [
      "Coefficient: {'TV_spend': np.float64(0.04171672324040173), 'radio_spend': np.float64(0.30108566547057203), 'social_spend': np.float64(0.5406200110014446)}\n",
      "Slope: 0.04171672324040173\n",
      "Intercept: 4.249551861387744\n",
      "R2_score:0.8379266626207427\n",
      "Predicted price for TVspend=160,radio_spend=32,social_spend=18:[30.29012907]\n"
     ]
    }
   ],
   "source": [
    "df=pd.read_csv(r\"C:\\Users\\DELL\\Downloads\\advertising_linear_150.csv\",encoding='latin1')\n",
    "X=df[['TV_spend','radio_spend','social_spend']]\n",
    "y=df['sales_k']\n",
    "model=LinearRegression()\n",
    "model.fit(X,y)\n",
    "coefficient=dict(zip(X.columns,model.coef_))\n",
    "slope=model.coef_[0]\n",
    "intercept=model.intercept_\n",
    "y_pred=model.predict(X)\n",
    "r2=r2_score(y,y_pred)\n",
    "pred_price=model.predict(pd.DataFrame({'TV_spend':[160],'radio_spend':[32],'social_spend':[18]}))\n",
    "print(\"Coefficient:\",coefficient)\n",
    "print(\"Slope:\",slope)\n",
    "print(\"Intercept:\",intercept)\n",
    "print(f\"R2_score:{r2}\")\n",
    "print(f\"Predicted price for TVspend=160,radio_spend=32,social_spend=18:{pred_price}\")"
   ]
  },
  {
   "cell_type": "code",
   "execution_count": null,
   "id": "ad36a673-487e-4622-b2d2-2e3b4bc7ded2",
   "metadata": {},
   "outputs": [],
   "source": []
  }
 ],
 "metadata": {
  "kernelspec": {
   "display_name": "Python 3 (ipykernel)",
   "language": "python",
   "name": "python3"
  },
  "language_info": {
   "codemirror_mode": {
    "name": "ipython",
    "version": 3
   },
   "file_extension": ".py",
   "mimetype": "text/x-python",
   "name": "python",
   "nbconvert_exporter": "python",
   "pygments_lexer": "ipython3",
   "version": "3.13.5"
  }
 },
 "nbformat": 4,
 "nbformat_minor": 5
}
